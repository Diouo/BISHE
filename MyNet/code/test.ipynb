{
 "cells": [
  {
   "cell_type": "code",
   "execution_count": 1,
   "metadata": {},
   "outputs": [
    {
     "name": "stderr",
     "output_type": "stream",
     "text": [
      "/home/guozy/.conda/envs/bishe/lib/python3.8/site-packages/tqdm/auto.py:21: TqdmWarning: IProgress not found. Please update jupyter and ipywidgets. See https://ipywidgets.readthedocs.io/en/stable/user_install.html\n",
      "  from .autonotebook import tqdm as notebook_tqdm\n"
     ]
    }
   ],
   "source": [
    "import numpy as np\n",
    "\n",
    "from PIL import Image\n",
    "from skimage.metrics import mean_squared_error as mse\n",
    "from skimage.metrics import peak_signal_noise_ratio as psnr\n",
    "from skimage.metrics import structural_similarity as ssim\n",
    "\n",
    "import torch\n",
    "from torchvision.transforms import ToTensor\n",
    "\n",
    "from net.model import Generator"
   ]
  },
  {
   "cell_type": "code",
   "execution_count": 3,
   "metadata": {},
   "outputs": [],
   "source": [
    "# ===========================================================\n",
    "# model import & setting\n",
    "# ===========================================================\n",
    "\n",
    "filepath='/home/guozy/BISHE/MyNet/result/2023-04-25_18:58:17/checkpoints/156_checkpoint.pkl'\n",
    "checkpoint = torch.load(filepath, map_location='cuda:0')\n",
    "\n",
    "model = Generator(n_residual_blocks=16, upsample_factor=4, base_filter=64, num_channel=3).to(\"cuda:0\")\n",
    "model.load_state_dict(checkpoint['G_state_dict'])\n",
    "model.eval()"
   ]
  },
  {
   "cell_type": "code",
   "execution_count": 4,
   "metadata": {},
   "outputs": [
    {
     "name": "stderr",
     "output_type": "stream",
     "text": [
      "/tmp/ipykernel_281184/860866110.py:8: DeprecationWarning: BICUBIC is deprecated and will be removed in Pillow 10 (2023-07-01). Use Resampling.BICUBIC instead.\n",
      "  origin_to_upsample_by_Bicubic = image.resize((image_width, image_height), resample=Image.BICUBIC)\n"
     ]
    }
   ],
   "source": [
    "# ===========================================================\n",
    "# compare origin with upsample in resolve\n",
    "# ===========================================================\n",
    "\n",
    "image = Image.open(\"/home/guozy/BISHE/dataset/Set5/butterfly.png\").convert('RGB')\n",
    "image_width = image.width  * 4\n",
    "image_height = image.height * 4\n",
    "origin_to_upsample_by_Bicubic = image.resize((image_width, image_height), resample=Image.BICUBIC)\n",
    "origin_to_upsample_by_Bicubic.save('/home/guozy/BISHE/MyNet/rebuild/origin_to_upsample_by_Bicubic.jpg')\n",
    "\n",
    "image = Image.open(\"/home/guozy/BISHE/dataset/Set5/butterfly.png\").convert('RGB')\n",
    "x = ToTensor()(image) \n",
    "x = x.to('cuda:0').unsqueeze(0)\n",
    "out = model(x)\n",
    "out = out.detach().squeeze(0)\n",
    "out = out.permute(1,2,0).cpu().numpy() * 255.0\n",
    "origin_to_upsample_by_NN = Image.fromarray(out.astype(np.uint8))\n",
    "origin_to_upsample_by_NN.save('/home/guozy/BISHE/MyNet/rebuild/origin_to_upsample_by_NN.jpg')\n"
   ]
  },
  {
   "cell_type": "code",
   "execution_count": 5,
   "metadata": {},
   "outputs": [
    {
     "name": "stderr",
     "output_type": "stream",
     "text": [
      "/tmp/ipykernel_281184/1089434889.py:11: DeprecationWarning: BICUBIC is deprecated and will be removed in Pillow 10 (2023-07-01). Use Resampling.BICUBIC instead.\n",
      "  downsample=image.resize((image.width // 4, image.height // 4), resample=Image.BICUBIC)\n",
      "/tmp/ipykernel_281184/1089434889.py:13: DeprecationWarning: BICUBIC is deprecated and will be removed in Pillow 10 (2023-07-01). Use Resampling.BICUBIC instead.\n",
      "  downsample_to_origin_by_Bicubic=downsample.resize((image.width, image.height), resample=Image.BICUBIC)\n"
     ]
    }
   ],
   "source": [
    "# ===========================================================\n",
    "# compare origin with downsample in one image\n",
    "# ===========================================================\n",
    "image = Image.open(\"/home/guozy/BISHE/dataset/Set5/butterfly.png\").convert('RGB')\n",
    "image_width = (image.width // 4) * 4\n",
    "image_height = (image.height // 4) * 4\n",
    "if image_height != image.height or image_width != image.width:\n",
    "    image = image.resize((image_width, image_height), resample=Image.BICUBIC)\n",
    "image.save('/home/guozy/BISHE/MyNet/rebuild/origin.jpg')\n",
    "\n",
    "downsample=image.resize((image.width // 4, image.height // 4), resample=Image.BICUBIC)\n",
    "downsample.save('/home/guozy/BISHE/MyNet/rebuild/downsample.jpg')\n",
    "downsample_to_origin_by_Bicubic=downsample.resize((image.width, image.height), resample=Image.BICUBIC)\n",
    "downsample_to_origin_by_Bicubic.save('/home/guozy/BISHE/MyNet/rebuild/downsample_to_origin_by_Bicubic.jpg')\n",
    "\n",
    "x = (ToTensor()(downsample))\n",
    "x = x.to('cuda:0').unsqueeze(0)\n",
    "out = model(x).squeeze(0)\n",
    "out = out.detach().permute(1,2,0).cpu().numpy() * 255.0\n",
    "downsample_to_origin_by_NN = Image.fromarray(out.astype(np.uint8))\n",
    "downsample_to_origin_by_NN.save('/home/guozy/BISHE/MyNet/rebuild/downsample_to_origin_by_NN.jpg')"
   ]
  },
  {
   "cell_type": "code",
   "execution_count": 6,
   "metadata": {},
   "outputs": [
    {
     "name": "stdout",
     "output_type": "stream",
     "text": [
      "NN: psnr:25.23191410507125 , ssim:0.7213611305163192, mse:254.76432784288187\n",
      "\n"
     ]
    }
   ],
   "source": [
    "# ===========================================================\n",
    "# compare origin with downsample in whole dataset\n",
    "# ===========================================================\n",
    "from os import listdir\n",
    "from os.path import join\n",
    "\n",
    "def is_image_file(filename):\n",
    "    return any(filename.endswith(extension) for extension in [\".png\", \".jpg\", \".jpeg\"])\n",
    "    \n",
    "# image_dir = '/home/guozy/BISHE/dataset/Set5/'\n",
    "# image_dir = '/home/guozy/BISHE/dataset/Set14/'\n",
    "image_dir = '/home/guozy/BISHE/dataset/BSD100/'\n",
    "\n",
    "image_filenames = [join(image_dir, x) for x in listdir(image_dir) if is_image_file(x)]\n",
    "\n",
    "avg_psnr_NN = 0\n",
    "avg_ssim_NN = 0\n",
    "avg_mse_NN = 0\n",
    "\n",
    "for image_filename in image_filenames:\n",
    "\n",
    "    # part1\n",
    "    image = Image.open(image_filename).convert('RGB')\n",
    "    image_width = (image.width // 4) * 4\n",
    "    image_height = (image.height // 4) * 4\n",
    "    if image_height != image.height or image_width != image.width:\n",
    "        image = image.resize((image_width, image_height), resample=Image.BICUBIC)\n",
    "        \n",
    "    downsample = image.resize((image.width // 4, image.height // 4), resample=Image.Resampling.BICUBIC)\n",
    "\n",
    "    # part2\n",
    "    x = (ToTensor()(downsample)).to('cuda:0').unsqueeze(0)\n",
    "    with torch.no_grad():\n",
    "        out = model(x)\n",
    "    out = out.mul(255.0).squeeze(0).permute(1,2,0).cpu().numpy()\n",
    "\n",
    "    # part3\n",
    "    image = np.array(image, dtype=np.uint8)\n",
    "    out = out.astype(np.uint8)\n",
    "    \n",
    "    p2 = psnr(out, image)\n",
    "    s2 = ssim(out, image, channel_axis=2)\n",
    "    m2= mse(out, image)\n",
    "    avg_psnr_NN += p2\n",
    "    avg_ssim_NN +=s2\n",
    "    avg_mse_NN += m2\n",
    "\n",
    "avg_psnr_NN /= len(image_filenames)\n",
    "avg_ssim_NN /= len(image_filenames)\n",
    "avg_mse_NN /= len(image_filenames)\n",
    "\n",
    "print('NN: psnr:{} , ssim:{}, mse:{}\\n'.format(avg_psnr_NN,avg_ssim_NN,avg_mse_NN))"
   ]
  }
 ],
 "metadata": {
  "interpreter": {
   "hash": "6b3c956678a6a929060157b755d66fc86eca28f2b9ea327489c872cd65c74113"
  },
  "kernelspec": {
   "display_name": "Python 3.8.15 ('bishe')",
   "language": "python",
   "name": "python3"
  },
  "language_info": {
   "codemirror_mode": {
    "name": "ipython",
    "version": 3
   },
   "file_extension": ".py",
   "mimetype": "text/x-python",
   "name": "python",
   "nbconvert_exporter": "python",
   "pygments_lexer": "ipython3",
   "version": "3.8.15"
  },
  "orig_nbformat": 4
 },
 "nbformat": 4,
 "nbformat_minor": 2
}
