{
 "cells": [
  {
   "cell_type": "code",
   "execution_count": 18,
   "metadata": {},
   "outputs": [],
   "source": [
    "from __future__ import print_function\n",
    "\n",
    "import os\n",
    "import numpy as np\n",
    "import cv2\n",
    "\n",
    "from PIL import Image\n",
    "from skimage.metrics import mean_squared_error as mse\n",
    "from skimage.metrics import peak_signal_noise_ratio as psnr\n",
    "from skimage.metrics import structural_similarity as ssim\n",
    "\n",
    "import torch\n",
    "import torch.backends.cudnn as cudnn\n",
    "from torchvision.transforms import Compose, CenterCrop, ToTensor, Resize"
   ]
  },
  {
   "cell_type": "code",
   "execution_count": 19,
   "metadata": {},
   "outputs": [],
   "source": [
    "# ===========================================================\n",
    "# input image setting\n",
    "# ===========================================================\n",
    "GPU_IN_USE = torch.cuda.is_available()\n",
    "if GPU_IN_USE:\n",
    "    cudnn.benchmark = True\n",
    "device = torch.device('cuda' if GPU_IN_USE else 'cpu')"
   ]
  },
  {
   "cell_type": "code",
   "execution_count": 20,
   "metadata": {},
   "outputs": [
    {
     "name": "stdout",
     "output_type": "stream",
     "text": [
      "avaliable model:\n",
      "----------\n",
      "0,2023-03-06_22:52:43\n",
      "1,2023-03-06_23:05:21\n",
      "2,2023-03-06_23:07:00\n",
      "3,SRCNN_pretrained\n",
      "----------\n",
      "load model\n"
     ]
    }
   ],
   "source": [
    "# ===========================================================\n",
    "# model import & setting\n",
    "# ===========================================================\n",
    "print('avaliable model:')\n",
    "print('-'*10)\n",
    "filepath='/home/guozy/BISHE/SR_Collection/result/'\n",
    "subpath = os.listdir(filepath)\n",
    "subpath.sort()\n",
    "count = -1\n",
    "for p in subpath:\n",
    "    count += 1\n",
    "    print('{},{}'.format(count, p))\n",
    "print('-' * 10)\n",
    "\n",
    "choice=int(input('input the number of the determined model\\n'))\n",
    "filepath=filepath+subpath[choice]+'/model.pth'\n",
    "\n",
    "print('load model')\n",
    "model = torch.load(filepath)\n",
    "model = model.to(device)"
   ]
  },
  {
   "cell_type": "code",
   "execution_count": 21,
   "metadata": {},
   "outputs": [
    {
     "data": {
      "text/plain": [
       "True"
      ]
     },
     "execution_count": 21,
     "metadata": {},
     "output_type": "execute_result"
    }
   ],
   "source": [
    "# ===========================================================\n",
    "# compare with origin to upsample\n",
    "# ===========================================================\n",
    "\n",
    "img = Image.open('/home/guozy/BISHE/SR_Collection/dataset/BSDS300/images/test/69015.jpg')\n",
    "data = (ToTensor()(img))\n",
    "data = data.to(device)\n",
    "out = model(data)\n",
    "out = out.permute(1,2,0).cpu()\n",
    "out = out.detach().numpy()\n",
    "out*= 255.0\n",
    "out = out.clip(0, 255).astype(np.int8)\n",
    "out = Image.fromarray(out, mode=\"RGB\")\n",
    "out.save('/home/guozy/BISHE/SR_Collection/result/'+ subpath[choice]+'/origin_to_upsample_by_NN.jpg')\n",
    "\n",
    "\n",
    "img=cv2.imread(\"/home/guozy/BISHE/SR_Collection/dataset/BSDS300/images/test/69015.jpg\")\n",
    "w=img.shape[1]  \n",
    "h=img.shape[0]\n",
    "img=cv2.resize(img,(w-1,h-1),interpolation=cv2.INTER_CUBIC)\n",
    "upsample=cv2.resize(img,(w*2,h*2),interpolation=cv2.INTER_CUBIC)\n",
    "cv2.imwrite('/home/guozy/BISHE/SR_Collection/result/'+ subpath[choice]+'/origin_to_upsample_by_Bicubic.jpg',upsample,[int(cv2.IMWRITE_JPEG_QUALITY), 100])"
   ]
  },
  {
   "cell_type": "code",
   "execution_count": 22,
   "metadata": {},
   "outputs": [
    {
     "name": "stdout",
     "output_type": "stream",
     "text": [
      "BiCubic下采样超分辨重建结果： psnr:33.58351656302146 , ssim:0.9418488522265225, mse:28.49237847222222\n",
      "\n",
      "NN下采样超分辨重建结果： psnr:13.867772361019917 , ssim:0.31628098076666417, mse:2668.720703125\n",
      "\n"
     ]
    }
   ],
   "source": [
    "# ===========================================================\n",
    "# compare with downsample to origin\n",
    "# ===========================================================\n",
    "downsample=cv2.resize(img,(w//2,h//2),interpolation=cv2.INTER_CUBIC)\n",
    "downsample_to_origin=cv2.resize(downsample,(w-1,h-1),interpolation=cv2.INTER_CUBIC)\n",
    "cv2.imwrite('/home/guozy/BISHE/SR_Collection/result/'+ subpath[choice]+'/downsample_to_origin_by_Bicubic.jpg',downsample_to_origin,[int(cv2.IMWRITE_JPEG_QUALITY), 100])\n",
    "\n",
    "data = (ToTensor()(downsample))\n",
    "data = data.to(device)\n",
    "out = model(data)\n",
    "out = out.permute(1,2,0).cpu()\n",
    "out = out.detach().numpy()\n",
    "out*= 255.0\n",
    "out = out.clip(0, 255).astype(np.int8)\n",
    "result = Image.fromarray(out, mode=\"RGB\")\n",
    "result.save('/home/guozy/BISHE/SR_Collection/result/'+ subpath[choice]+'/downsample_to_origin_by_NN.jpg')\n",
    "\n",
    "p1 = psnr(downsample_to_origin, img)\n",
    "s1 = ssim(downsample_to_origin, img, channel_axis=2)  \n",
    "m1 = mse(downsample_to_origin, img)\n",
    "print('BiCubic下采样超分辨重建结果： psnr:{} , ssim:{}, mse:{}\\n'.format(p1,s1,m1))\n",
    "\n",
    "img = img.astype(np.int8)\n",
    "p2 = psnr(out, img)\n",
    "s2 = ssim(out, img, channel_axis=2)\n",
    "m2= mse(out, img)\n",
    "print('NN下采样超分辨重建结果： psnr:{} , ssim:{}, mse:{}\\n'.format(p2,s2,m2))"
   ]
  }
 ],
 "metadata": {
  "interpreter": {
   "hash": "6b3c956678a6a929060157b755d66fc86eca28f2b9ea327489c872cd65c74113"
  },
  "kernelspec": {
   "display_name": "Python 3.8.15 ('bishe')",
   "language": "python",
   "name": "python3"
  },
  "language_info": {
   "codemirror_mode": {
    "name": "ipython",
    "version": 3
   },
   "file_extension": ".py",
   "mimetype": "text/x-python",
   "name": "python",
   "nbconvert_exporter": "python",
   "pygments_lexer": "ipython3",
   "version": "3.8.15"
  },
  "orig_nbformat": 4
 },
 "nbformat": 4,
 "nbformat_minor": 2
}
